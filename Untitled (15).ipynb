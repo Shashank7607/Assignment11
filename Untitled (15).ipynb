{
 "cells": [
  {
   "cell_type": "code",
   "execution_count": 9,
   "id": "32bf644e-dc6a-44e7-ac67-b855048d20ab",
   "metadata": {},
   "outputs": [],
   "source": [
    "#ans 1"
   ]
  },
  {
   "cell_type": "code",
   "execution_count": 10,
   "id": "bc9b5f2b-1a89-4b7f-bed6-d471eec61d68",
   "metadata": {},
   "outputs": [],
   "source": [
    "#When creating a custom exception in Python, it is necessary to inherit from the base Exception class. The Exception class is the parent class for all built-in exceptions in Python. By inheriting from this class, we can create a new exception class with custom behavior and attributes.\n",
    "\n",
    "#In Python, exceptions are objects that are raised when an error occurs in the program. The Exception class provides a common interface and functionality for handling all exceptions in the program. Therefore, when we create a custom exception, we need to ensure that it behaves in a similar way to other exceptions in the program.\n",
    "\n",
    "#Inheriting from the Exception class ensures that our custom exception class will have access to all the methods and attributes of the base Exception class. This allows us to define custom behavior for our exception, while still maintaining the standard exception handling features provided by the Exception class.\n",
    "\n",
    "#For example, we can define custom error messages, customize the handling of the exception, and provide additional information about the error that occurred. This information can be used to debug the program and fix the error that caused the exception.\n",
    "\n",
    "#In summary, using the Exception class as the base class for our custom exception allows us to create new exceptions with custom behavior while still maintaining the standard exception handling features provided by the Exception class."
   ]
  },
  {
   "cell_type": "code",
   "execution_count": 11,
   "id": "94453d07-a99e-4efc-ac64-4ec62326893a",
   "metadata": {},
   "outputs": [],
   "source": [
    "#ans 2"
   ]
  },
  {
   "cell_type": "code",
   "execution_count": 12,
   "id": "005966cb-041c-491e-b9af-84cc2e3e29db",
   "metadata": {},
   "outputs": [
    {
     "name": "stdout",
     "output_type": "stream",
     "text": [
      "- Exception\n",
      "\t- TypeError\n",
      "\t\t- FloatOperation\n",
      "\t\t- MultipartConversionError\n",
      "\t- StopAsyncIteration\n",
      "\t- StopIteration\n",
      "\t- ImportError\n",
      "\t\t- ModuleNotFoundError\n",
      "\t\t- ZipImportError\n",
      "\t- OSError\n",
      "\t\t- ConnectionError\n",
      "\t\t\t- BrokenPipeError\n",
      "\t\t\t- ConnectionAbortedError\n",
      "\t\t\t- ConnectionRefusedError\n",
      "\t\t\t- ConnectionResetError\n",
      "\t\t\t\t- RemoteDisconnected\n",
      "\t\t- BlockingIOError\n",
      "\t\t- ChildProcessError\n",
      "\t\t- FileExistsError\n",
      "\t\t- FileNotFoundError\n",
      "\t\t- IsADirectoryError\n",
      "\t\t- NotADirectoryError\n",
      "\t\t- InterruptedError\n",
      "\t\t\t- InterruptedSystemCall\n",
      "\t\t- PermissionError\n",
      "\t\t- ProcessLookupError\n",
      "\t\t- TimeoutError\n",
      "\t\t- UnsupportedOperation\n",
      "\t\t- itimer_error\n",
      "\t\t- herror\n",
      "\t\t- gaierror\n",
      "\t\t- SSLError\n",
      "\t\t\t- SSLCertVerificationError\n",
      "\t\t\t- SSLZeroReturnError\n",
      "\t\t\t- SSLWantWriteError\n",
      "\t\t\t- SSLWantReadError\n",
      "\t\t\t- SSLSyscallError\n",
      "\t\t\t- SSLEOFError\n",
      "\t\t- Error\n",
      "\t\t\t- SameFileError\n",
      "\t\t- SpecialFileError\n",
      "\t\t- ExecError\n",
      "\t\t- ReadError\n",
      "\t\t- URLError\n",
      "\t\t\t- HTTPError\n",
      "\t\t\t- ContentTooShortError\n",
      "\t\t- BadGzipFile\n",
      "\t- EOFError\n",
      "\t\t- IncompleteReadError\n",
      "\t- RuntimeError\n",
      "\t\t- RecursionError\n",
      "\t\t- NotImplementedError\n",
      "\t\t\t- ZMQVersionError\n",
      "\t\t\t- StdinNotImplementedError\n",
      "\t\t- _DeadlockError\n",
      "\t\t- BrokenBarrierError\n",
      "\t\t- BrokenExecutor\n",
      "\t\t\t- BrokenThreadPool\n",
      "\t\t- SendfileNotAvailableError\n",
      "\t\t- ExtractionError\n",
      "\t\t- VariableError\n",
      "\t- NameError\n",
      "\t\t- UnboundLocalError\n",
      "\t- AttributeError\n",
      "\t\t- FrozenInstanceError\n",
      "\t- SyntaxError\n",
      "\t\t- IndentationError\n",
      "\t\t\t- TabError\n",
      "\t- LookupError\n",
      "\t\t- IndexError\n",
      "\t\t- KeyError\n",
      "\t\t\t- NoSuchKernel\n",
      "\t\t\t- UnknownBackend\n",
      "\t\t- CodecRegistryError\n",
      "\t- ValueError\n",
      "\t\t- UnicodeError\n",
      "\t\t\t- UnicodeEncodeError\n",
      "\t\t\t- UnicodeDecodeError\n",
      "\t\t\t- UnicodeTranslateError\n",
      "\t\t- UnsupportedOperation\n",
      "\t\t- JSONDecodeError\n",
      "\t\t- SSLCertVerificationError\n",
      "\t\t- Error\n",
      "\t\t- UnsupportedDigestmodError\n",
      "\t\t- IllegalMonthError\n",
      "\t\t- IllegalWeekdayError\n",
      "\t\t- ParserError\n",
      "\t\t- ClassNotFound\n",
      "\t\t- ClipboardEmpty\n",
      "\t\t- MessageDefect\n",
      "\t\t\t- NoBoundaryInMultipartDefect\n",
      "\t\t\t- StartBoundaryNotFoundDefect\n",
      "\t\t\t- CloseBoundaryNotFoundDefect\n",
      "\t\t\t- FirstHeaderLineIsContinuationDefect\n",
      "\t\t\t- MisplacedEnvelopeHeaderDefect\n",
      "\t\t\t- MissingHeaderBodySeparatorDefect\n",
      "\t\t\t- MultipartInvariantViolationDefect\n",
      "\t\t\t- InvalidMultipartContentTransferEncodingDefect\n",
      "\t\t\t- UndecodableBytesDefect\n",
      "\t\t\t- InvalidBase64PaddingDefect\n",
      "\t\t\t- InvalidBase64CharactersDefect\n",
      "\t\t\t- InvalidBase64LengthDefect\n",
      "\t\t\t- HeaderDefect\n",
      "\t\t\t\t- InvalidHeaderDefect\n",
      "\t\t\t\t- HeaderMissingRequiredValue\n",
      "\t\t\t\t- NonPrintableDefect\n",
      "\t\t\t\t- ObsoleteHeaderDefect\n",
      "\t\t\t\t- NonASCIILocalPartDefect\n",
      "\t\t\t\t- InvalidDateDefect\n",
      "\t\t- MacroToEdit\n",
      "\t\t- InvalidFileException\n",
      "\t\t- UnequalIterablesError\n",
      "\t\t- InvalidVersion\n",
      "\t\t- _InvalidELFFileHeader\n",
      "\t\t- InvalidWheelFilename\n",
      "\t\t- InvalidSdistFilename\n",
      "\t\t- InvalidSpecifier\n",
      "\t\t- InvalidMarker\n",
      "\t\t- UndefinedComparison\n",
      "\t\t- UndefinedEnvironmentName\n",
      "\t\t- InvalidRequirement\n",
      "\t\t\t- RequirementParseError\n",
      "\t\t- InvalidVersion\n",
      "\t- AssertionError\n",
      "\t- ArithmeticError\n",
      "\t\t- FloatingPointError\n",
      "\t\t- OverflowError\n",
      "\t\t- ZeroDivisionError\n",
      "\t\t\t- DivisionByZero\n",
      "\t\t\t- DivisionUndefined\n",
      "\t\t- DecimalException\n",
      "\t\t\t- Clamped\n",
      "\t\t\t- Rounded\n",
      "\t\t\t\t- Underflow\n",
      "\t\t\t\t- Overflow\n",
      "\t\t\t- Inexact\n",
      "\t\t\t\t- Underflow\n",
      "\t\t\t\t- Overflow\n",
      "\t\t\t- Subnormal\n",
      "\t\t\t\t- Underflow\n",
      "\t\t\t- DivisionByZero\n",
      "\t\t\t- FloatOperation\n",
      "\t\t\t- InvalidOperation\n",
      "\t\t\t\t- ConversionSyntax\n",
      "\t\t\t\t- DivisionImpossible\n",
      "\t\t\t\t- DivisionUndefined\n",
      "\t\t\t\t- InvalidContext\n",
      "\t- SystemError\n",
      "\t\t- CodecRegistryError\n",
      "\t- ReferenceError\n",
      "\t- MemoryError\n",
      "\t- BufferError\n",
      "\t- Warning\n",
      "\t\t- UserWarning\n",
      "\t\t\t- GetPassWarning\n",
      "\t\t\t- FormatterWarning\n",
      "\t\t- EncodingWarning\n",
      "\t\t- DeprecationWarning\n",
      "\t\t\t- ProvisionalWarning\n",
      "\t\t- PendingDeprecationWarning\n",
      "\t\t- SyntaxWarning\n",
      "\t\t- RuntimeWarning\n",
      "\t\t\t- ProactorSelectorThreadWarning\n",
      "\t\t\t- UnknownTimezoneWarning\n",
      "\t\t\t- PEP440Warning\n",
      "\t\t- FutureWarning\n",
      "\t\t\t- ProvisionalCompleterWarning\n",
      "\t\t- ImportWarning\n",
      "\t\t- UnicodeWarning\n",
      "\t\t- BytesWarning\n",
      "\t\t- ResourceWarning\n",
      "\t\t- DeprecatedTzFormatWarning\n",
      "\t\t- PkgResourcesDeprecationWarning\n",
      "\t- _OptionError\n",
      "\t- _Error\n",
      "\t- error\n",
      "\t- Verbose\n",
      "\t- Error\n",
      "\t- SubprocessError\n",
      "\t\t- CalledProcessError\n",
      "\t\t- TimeoutExpired\n",
      "\t- TokenError\n",
      "\t- StopTokenizing\n",
      "\t- ClassFoundException\n",
      "\t- EndOfBlock\n",
      "\t- TraitError\n",
      "\t- Error\n",
      "\t- Error\n",
      "\t\t- CancelledError\n",
      "\t\t- TimeoutError\n",
      "\t\t- InvalidStateError\n",
      "\t- _GiveupOnSendfile\n",
      "\t- error\n",
      "\t- Incomplete\n",
      "\t- TimeoutError\n",
      "\t- InvalidStateError\n",
      "\t- LimitOverrunError\n",
      "\t- QueueEmpty\n",
      "\t- QueueFull\n",
      "\t- Empty\n",
      "\t- Full\n",
      "\t- ArgumentError\n",
      "\t- ZMQBaseError\n",
      "\t\t- ZMQError\n",
      "\t\t\t- ContextTerminated\n",
      "\t\t\t- Again\n",
      "\t\t\t- InterruptedSystemCall\n",
      "\t\t- ZMQBindError\n",
      "\t\t- NotDone\n",
      "\t- PickleError\n",
      "\t\t- PicklingError\n",
      "\t\t- UnpicklingError\n",
      "\t- _Stop\n",
      "\t- ArgumentError\n",
      "\t- ArgumentTypeError\n",
      "\t- ConfigError\n",
      "\t\t- ConfigLoaderError\n",
      "\t\t\t- ArgumentError\n",
      "\t\t- ConfigFileNotFound\n",
      "\t- ConfigurableError\n",
      "\t\t- MultipleInstanceError\n",
      "\t- ApplicationError\n",
      "\t- error\n",
      "\t- TimeoutError\n",
      "\t- error\n",
      "\t- ReturnValueIgnoredError\n",
      "\t- KeyReuseError\n",
      "\t- UnknownKeyError\n",
      "\t- LeakedCallbackError\n",
      "\t- BadYieldError\n",
      "\t- ReturnValueIgnoredError\n",
      "\t- Return\n",
      "\t- InvalidPortNumber\n",
      "\t- error\n",
      "\t- LZMAError\n",
      "\t- RegistryError\n",
      "\t- _GiveupOnFastCopy\n",
      "\t- Error\n",
      "\t\t- NoSectionError\n",
      "\t\t- DuplicateSectionError\n",
      "\t\t- DuplicateOptionError\n",
      "\t\t- NoOptionError\n",
      "\t\t- InterpolationError\n",
      "\t\t\t- InterpolationMissingOptionError\n",
      "\t\t\t- InterpolationSyntaxError\n",
      "\t\t\t- InterpolationDepthError\n",
      "\t\t- ParsingError\n",
      "\t\t\t- MissingSectionHeaderError\n",
      "\t- NoIPAddresses\n",
      "\t- BadZipFile\n",
      "\t- LargeZipFile\n",
      "\t- BadEntryPoint\n",
      "\t- NoSuchEntryPoint\n",
      "\t- DuplicateKernelError\n",
      "\t- ErrorDuringImport\n",
      "\t- NotOneValueFound\n",
      "\t- CannotEval\n",
      "\t- OptionError\n",
      "\t- BdbQuit\n",
      "\t- Restart\n",
      "\t- ExceptionPexpect\n",
      "\t\t- EOF\n",
      "\t\t- TIMEOUT\n",
      "\t- PtyProcessError\n",
      "\t- FindCmdError\n",
      "\t- HomeDirError\n",
      "\t- ProfileDirError\n",
      "\t- IPythonCoreError\n",
      "\t\t- TryNext\n",
      "\t\t- UsageError\n",
      "\t\t- StdinNotImplementedError\n",
      "\t- InputRejected\n",
      "\t- GetoptError\n",
      "\t- ErrorToken\n",
      "\t- PrefilterError\n",
      "\t- AliasError\n",
      "\t\t- InvalidAliasError\n",
      "\t- Error\n",
      "\t\t- InterfaceError\n",
      "\t\t- DatabaseError\n",
      "\t\t\t- InternalError\n",
      "\t\t\t- OperationalError\n",
      "\t\t\t- ProgrammingError\n",
      "\t\t\t- IntegrityError\n",
      "\t\t\t- DataError\n",
      "\t\t\t- NotSupportedError\n",
      "\t- Warning\n",
      "\t- SpaceInInput\n",
      "\t- DOMException\n",
      "\t\t- IndexSizeErr\n",
      "\t\t- DomstringSizeErr\n",
      "\t\t- HierarchyRequestErr\n",
      "\t\t- WrongDocumentErr\n",
      "\t\t- InvalidCharacterErr\n",
      "\t\t- NoDataAllowedErr\n",
      "\t\t- NoModificationAllowedErr\n",
      "\t\t- NotFoundErr\n",
      "\t\t- NotSupportedErr\n",
      "\t\t- InuseAttributeErr\n",
      "\t\t- InvalidStateErr\n",
      "\t\t- SyntaxErr\n",
      "\t\t- InvalidModificationErr\n",
      "\t\t- NamespaceErr\n",
      "\t\t- InvalidAccessErr\n",
      "\t\t- ValidationErr\n",
      "\t- ValidationError\n",
      "\t- EditReadOnlyBuffer\n",
      "\t- _Retry\n",
      "\t- InvalidLayoutError\n",
      "\t- HeightIsUnknownError\n",
      "\t- ParserSyntaxError\n",
      "\t- InternalParseError\n",
      "\t- _PositionUpdatingFinished\n",
      "\t- SimpleGetItemNotFound\n",
      "\t- UncaughtAttributeError\n",
      "\t- HasNoContext\n",
      "\t- ParamIssue\n",
      "\t- _JediError\n",
      "\t\t- InternalError\n",
      "\t\t- WrongVersion\n",
      "\t\t- RefactoringError\n",
      "\t- OnErrorLeaf\n",
      "\t- InvalidPythonEnvironment\n",
      "\t- MessageError\n",
      "\t\t- MessageParseError\n",
      "\t\t\t- HeaderParseError\n",
      "\t\t\t- BoundaryError\n",
      "\t\t- MultipartConversionError\n",
      "\t\t- CharsetError\n",
      "\t- Error\n",
      "\t- HTTPException\n",
      "\t\t- NotConnected\n",
      "\t\t- InvalidURL\n",
      "\t\t- UnknownProtocol\n",
      "\t\t- UnknownTransferEncoding\n",
      "\t\t- UnimplementedFileMode\n",
      "\t\t- IncompleteRead\n",
      "\t\t- ImproperConnectionState\n",
      "\t\t\t- CannotSendRequest\n",
      "\t\t\t- CannotSendHeader\n",
      "\t\t\t- ResponseNotReady\n",
      "\t\t- BadStatusLine\n",
      "\t\t\t- RemoteDisconnected\n",
      "\t\t- LineTooLong\n",
      "\t- InteractivelyDefined\n",
      "\t- KillEmbedded\n",
      "\t- Error\n",
      "\t\t- NoSuchProcess\n",
      "\t\t\t- ZombieProcess\n",
      "\t\t- AccessDenied\n",
      "\t\t- TimeoutExpired\n",
      "\t- _Ipv6UnsupportedError\n",
      "\t- QueueEmpty\n",
      "\t- QueueFull\n",
      "\t- DebuggerInitializationError\n",
      "\t- ExpatError\n",
      "\t- Error\n",
      "\t\t- ProtocolError\n",
      "\t\t- ResponseError\n",
      "\t\t- Fault\n",
      "\t- ParseBaseException\n",
      "\t\t- ParseException\n",
      "\t\t- ParseFatalException\n",
      "\t\t\t- ParseSyntaxException\n",
      "\t- RecursiveGrammarException\n",
      "\t- ResolutionError\n",
      "\t\t- VersionConflict\n",
      "\t\t\t- ContextualVersionConflict\n",
      "\t\t- DistributionNotFound\n",
      "\t\t- UnknownExtra\n",
      "\t- _Error\n",
      "\t- UnableToResolveVariableException\n",
      "\t- InvalidTypeInArgsException\n",
      "\t- ParentException\n",
      "\t\t- ChildException\n",
      "\t\t\t- GrandChildException\n"
     ]
    }
   ],
   "source": [
    "class ParentException(Exception):\n",
    "    pass\n",
    "\n",
    "class ChildException(ParentException):\n",
    "    pass\n",
    "\n",
    "class GrandChildException(ChildException):\n",
    "    pass\n",
    "\n",
    "# function to print the exception hierarchy\n",
    "def print_exception_hierarchy(ex, level=0):\n",
    "    print('\\t'*level + '- ' + ex.__name__)\n",
    "    for sub_ex in ex.__subclasses__():\n",
    "        print_exception_hierarchy(sub_ex, level+1)\n",
    "\n",
    "# printing the hierarchy starting from the base Exception class\n",
    "print_exception_hierarchy(Exception)\n"
   ]
  },
  {
   "cell_type": "code",
   "execution_count": 13,
   "id": "dd7fc371-3684-4076-b2c8-ea8265c4b9df",
   "metadata": {},
   "outputs": [],
   "source": [
    "#The print_exception_hierarchy() function recursively prints the name of each exception class and its subclasses with an increasing indentation level to indicate the depth of the hierarchy. The hierarchy is built using the __subclasses__() method, which returns a list of immediate subclasses for a given class. The program starts with the base Exception class and prints its hierarchy."
   ]
  },
  {
   "cell_type": "code",
   "execution_count": 14,
   "id": "c77904f8-fb11-4f3c-ab5a-54693e5a0e8c",
   "metadata": {},
   "outputs": [],
   "source": [
    "#ans 3"
   ]
  },
  {
   "cell_type": "code",
   "execution_count": 15,
   "id": "415a9134-50f0-4253-bf23-56340a04f6b7",
   "metadata": {},
   "outputs": [],
   "source": [
    "#The ArithmeticError class is a built-in exception class in Python that serves as the base class for all errors related to arithmetic operations. This includes errors such as division by zero, floating-point errors, and overflow errors. Some of the exceptions defined under ArithmeticError class are FloatingPointError, ZeroDivisionError, and OverflowError."
   ]
  },
  {
   "cell_type": "code",
   "execution_count": 16,
   "id": "f3a48382-ecfd-402e-8b57-9a8d4364b102",
   "metadata": {},
   "outputs": [],
   "source": [
    "#1. ZeroDivisionError"
   ]
  },
  {
   "cell_type": "code",
   "execution_count": 17,
   "id": "d1bd8b42-52cf-466d-9184-e7081f673a76",
   "metadata": {},
   "outputs": [
    {
     "name": "stdout",
     "output_type": "stream",
     "text": [
      "Error: Division by zero\n"
     ]
    }
   ],
   "source": [
    "a = 10\n",
    "b = 0\n",
    "\n",
    "try:\n",
    "    c = a / b\n",
    "except ZeroDivisionError:\n",
    "    print(\"Error: Division by zero\")\n"
   ]
  },
  {
   "cell_type": "code",
   "execution_count": 18,
   "id": "50fc3457-854d-4b4b-ad6b-7f4f3bfd5c92",
   "metadata": {},
   "outputs": [],
   "source": [
    "#In this example, the program attempts to divide the value of a by b, which is zero. Since dividing by zero is not allowed in mathematics, this operation raises a ZeroDivisionError. The program catches this exception using a try-except block and prints a custom error message."
   ]
  },
  {
   "cell_type": "code",
   "execution_count": 19,
   "id": "6740a82f-3bbd-4314-a616-a7201434808d",
   "metadata": {},
   "outputs": [],
   "source": [
    "#2. OverflowError"
   ]
  },
  {
   "cell_type": "code",
   "execution_count": 20,
   "id": "6afa5b76-feaa-4539-91bb-3520f99fd2fe",
   "metadata": {},
   "outputs": [],
   "source": [
    "import sys\n",
    "\n",
    "a = sys.maxsize\n",
    "b = a + 1\n",
    "\n",
    "try:\n",
    "    c = a * b\n",
    "except OverflowError:\n",
    "    print(\"Error: Calculation resulted in overflow\")\n"
   ]
  },
  {
   "cell_type": "code",
   "execution_count": 21,
   "id": "1ea0b7e8-1f66-4071-93ac-de851de63348",
   "metadata": {},
   "outputs": [],
   "source": [
    "#In this example, the program multiplies two very large integers a and b. Since the result of this calculation exceeds the maximum limit of the available memory, it raises an OverflowError. The program catches this exception using a try-except block and prints a custom error message."
   ]
  },
  {
   "cell_type": "code",
   "execution_count": 22,
   "id": "c6a78cb7-81c6-45a2-93a7-27115f070200",
   "metadata": {},
   "outputs": [],
   "source": [
    "#ans 4"
   ]
  },
  {
   "cell_type": "code",
   "execution_count": 23,
   "id": "41fd41a3-25c3-4220-a3ff-70551f8eaa3c",
   "metadata": {},
   "outputs": [],
   "source": [
    "#The LookupError class is a built-in exception class in Python that serves as the base class for all errors related to lookup operations, such as accessing an item in a sequence or a dictionary. It is a parent class of other exception classes like IndexError, KeyError, and ValueError."
   ]
  },
  {
   "cell_type": "code",
   "execution_count": 24,
   "id": "a02de810-df88-4a4b-a891-56601ada0734",
   "metadata": {},
   "outputs": [],
   "source": [
    "#1. KeyError"
   ]
  },
  {
   "cell_type": "code",
   "execution_count": 25,
   "id": "65da7c02-eb16-48a4-962a-2162466a838c",
   "metadata": {},
   "outputs": [
    {
     "name": "stdout",
     "output_type": "stream",
     "text": [
      "Error: Key not found in dictionary\n"
     ]
    }
   ],
   "source": [
    "my_dict = {'a': 1, 'b': 2, 'c': 3}\n",
    "\n",
    "try:\n",
    "    value = my_dict['d']\n",
    "except KeyError:\n",
    "    print(\"Error: Key not found in dictionary\")\n"
   ]
  },
  {
   "cell_type": "code",
   "execution_count": 26,
   "id": "9ae681b8-a2b5-4640-a4e6-88838208dacd",
   "metadata": {},
   "outputs": [],
   "source": [
    "#In this example, the program attempts to access a key 'd' in the my_dict dictionary that does not exist. This operation raises a KeyError. The program catches this exception using a try-except block and prints a custom error message."
   ]
  },
  {
   "cell_type": "code",
   "execution_count": 27,
   "id": "50f64a03-d3fb-46ca-9473-58facc71b90e",
   "metadata": {},
   "outputs": [],
   "source": [
    "#2. IndexError"
   ]
  },
  {
   "cell_type": "code",
   "execution_count": 28,
   "id": "e9572640-8ea5-44b8-a2ac-2050cba69f34",
   "metadata": {},
   "outputs": [
    {
     "name": "stdout",
     "output_type": "stream",
     "text": [
      "Error: Index out of range in list\n"
     ]
    }
   ],
   "source": [
    "my_list = [1, 2, 3]\n",
    "\n",
    "try:\n",
    "    value = my_list[3]\n",
    "except IndexError:\n",
    "    print(\"Error: Index out of range in list\")\n"
   ]
  },
  {
   "cell_type": "code",
   "execution_count": 29,
   "id": "86f4ec8c-7642-4d25-b18d-f30b865b8e58",
   "metadata": {},
   "outputs": [],
   "source": [
    "#In this example, the program attempts to access an item at index 3 in the my_list list, which is out of the range of valid indices for the list. This operation raises an IndexError. The program catches this exception using a try-except block and prints a custom error message."
   ]
  },
  {
   "cell_type": "code",
   "execution_count": 30,
   "id": "0facd591-9b06-4139-bd7a-1978fb777b5d",
   "metadata": {},
   "outputs": [],
   "source": [
    "#ans 5"
   ]
  },
  {
   "cell_type": "code",
   "execution_count": 31,
   "id": "f1a07c32-9c84-4d96-809d-d990f7f505ea",
   "metadata": {},
   "outputs": [],
   "source": [
    "#ImportError is a built-in Python exception that is raised when a module or a package is imported but cannot be found, loaded or initialized correctly. This can occur due to various reasons such as incorrect import statements, missing dependencies, or incorrect file paths."
   ]
  },
  {
   "cell_type": "code",
   "execution_count": 32,
   "id": "770a9981-24e3-4dbc-8b7c-5ca0900ab76a",
   "metadata": {},
   "outputs": [
    {
     "name": "stdout",
     "output_type": "stream",
     "text": [
      "Error: Module not found or could not be imported\n"
     ]
    }
   ],
   "source": [
    "try:\n",
    "    import my_module\n",
    "except ImportError:\n",
    "    print(\"Error: Module not found or could not be imported\")\n"
   ]
  },
  {
   "cell_type": "code",
   "execution_count": 33,
   "id": "8244c57e-35e4-4678-b36f-5aefc5568932",
   "metadata": {},
   "outputs": [],
   "source": [
    "#In this example, the program attempts to import the my_module module using the import statement. If the module cannot be found or loaded correctly, an ImportError is raised. The program catches this exception using a try-except block and prints a custom error message.\n",
    "\n",
    "#In Python 3.6 and above, the ModuleNotFoundError exception is a subclass of ImportError and is raised when a module or a package is not found during the import process. This exception is raised only when the module or package is not found, and not for other import errors such as syntax errors or permission errors."
   ]
  },
  {
   "cell_type": "code",
   "execution_count": 34,
   "id": "e3b04bb3-5a08-4935-8e29-ca04ddf4aec6",
   "metadata": {},
   "outputs": [
    {
     "name": "stdout",
     "output_type": "stream",
     "text": [
      "Error: Module not found\n"
     ]
    }
   ],
   "source": [
    "try:\n",
    "    import my_module_that_does_not_exist\n",
    "except ModuleNotFoundError:\n",
    "    print(\"Error: Module not found\")\n"
   ]
  },
  {
   "cell_type": "code",
   "execution_count": 35,
   "id": "960f5d06-8794-480e-9d86-3ca78b96e4e1",
   "metadata": {},
   "outputs": [],
   "source": [
    "#In this example, the program attempts to import a non-existent my_module_that_does_not_exist module using the import statement. Since the module does not exist, a ModuleNotFoundError is raised. The program catches this exception using a try-except block and prints a custom error message.\n",
    "\n",
    "#In summary, ImportError is raised when a module or package cannot be imported due to various reasons, while ModuleNotFoundError is a specific subclass of ImportError that is raised only when a module or package is not found during the import process."
   ]
  },
  {
   "cell_type": "code",
   "execution_count": null,
   "id": "a5379349-2573-4809-b168-f67730dcc44f",
   "metadata": {},
   "outputs": [],
   "source": [
    "#Here are some best practices for exception handling in Python:\n",
    "\n",
    "# 1. Be specific: Catch only those exceptions that you can handle or expect to occur. Avoid catching generic exceptions like Exception or BaseException.\n",
    "\n",
    "# 2. Keep it simple: Keep the exception handling code as simple as possible. Avoid nesting too many try-except blocks or using complex logic.\n",
    "\n",
    "# 3. Use finally: Use the finally block to execute cleanup code, such as closing files or releasing resources, regardless of whether an exception was raised or not.\n",
    "\n",
    "# 4. Handle exceptions close to the source: Catch exceptions as close to the source as possible. This helps in isolating and identifying the source of the problem and makes the code more readable.\n",
    "\n",
    "# 5. Log exceptions: Use logging to record exception information. This can help in debugging and identifying the root cause of the problem.\n",
    "\n",
    "# 6. Reraise exceptions: If you cannot handle an exception, reraise it using the raise statement. This allows the exception to propagate up the call stack, where it can be handled by a higher-level exception handler.\n",
    "\n",
    "# 7. Use context managers: Use context managers like with statement to manage resources such as files, sockets, and database connections. Context managers help in automatically releasing resources and handling exceptions related to them.\n",
    "\n",
    "# 8. Be careful with try-except in loops: When using try-except in loops, make sure that the loop does not catch and ignore exceptions that are not related to the loop.\n",
    "\n",
    "# 9. Avoid using exceptions for flow control: Exceptions should not be used for normal control flow. They are meant to handle exceptional conditions and errors.\n",
    "\n",
    "By following these best practices, you can write better and more robust Python code that handles exceptions effectively and gracefully."
   ]
  }
 ],
 "metadata": {
  "kernelspec": {
   "display_name": "Python 3 (ipykernel)",
   "language": "python",
   "name": "python3"
  },
  "language_info": {
   "codemirror_mode": {
    "name": "ipython",
    "version": 3
   },
   "file_extension": ".py",
   "mimetype": "text/x-python",
   "name": "python",
   "nbconvert_exporter": "python",
   "pygments_lexer": "ipython3",
   "version": "3.10.8"
  }
 },
 "nbformat": 4,
 "nbformat_minor": 5
}
